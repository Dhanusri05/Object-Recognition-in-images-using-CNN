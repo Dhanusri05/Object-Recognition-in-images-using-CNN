{
 "cells": [
  {
   "cell_type": "markdown",
   "metadata": {
    "id": "LliqnvsLv8G4"
   },
   "source": [
    "# Step 1: Installation and Setup"
   ]
  },
  {
   "cell_type": "code",
   "execution_count": null,
   "metadata": {
    "id": "hPSs-8FdxHNF"
   },
   "outputs": [],
   "source": [
    "# Installing TensorFlow\n",
    "! pip install -q tensorflow-gpu"
   ]
  },
  {
   "cell_type": "code",
   "execution_count": 1,
   "metadata": {
    "colab": {
     "base_uri": "https://localhost:8080/",
     "height": 35
    },
    "executionInfo": {
     "elapsed": 6097,
     "status": "ok",
     "timestamp": 1594726795320,
     "user": {
      "displayName": "Vijay Gadhave",
      "photoUrl": "https://lh3.googleusercontent.com/a-/AOh14Gh8AeAj-bn6r8wj43bKiCJEywC8wSd5igowbxpPuQ=s64",
      "userId": "02099433176152859365"
     },
     "user_tz": -330
    },
    "id": "qL579D-2yI_h",
    "outputId": "2c9c53cf-398c-4fee-995b-8054617b330c"
   },
   "outputs": [
    {
     "name": "stdout",
     "output_type": "stream",
     "text": [
      "2.11.0\n"
     ]
    }
   ],
   "source": [
    "import tensorflow as tf\n",
    "print(tf.__version__)"
   ]
  },
  {
   "cell_type": "code",
   "execution_count": 2,
   "metadata": {
    "id": "dD5Q9rozyRjM"
   },
   "outputs": [],
   "source": [
    "import numpy as np\n",
    "import pandas as pd\n",
    "import matplotlib.pyplot as plt"
   ]
  },
  {
   "cell_type": "markdown",
   "metadata": {
    "id": "7kQ_nSEgyse9"
   },
   "source": [
    "# Step 2: Data Preprocessing"
   ]
  },
  {
   "cell_type": "code",
   "execution_count": 3,
   "metadata": {
    "id": "vwWJyC3oyv5s"
   },
   "outputs": [],
   "source": [
    "# Importing the dataset\n",
    "from tensorflow.keras.datasets import cifar10"
   ]
  },
  {
   "cell_type": "code",
   "execution_count": 4,
   "metadata": {
    "id": "ZkqF3-oYzhOR"
   },
   "outputs": [
    {
     "name": "stdout",
     "output_type": "stream",
     "text": [
      "Downloading data from https://www.cs.toronto.edu/~kriz/cifar-10-python.tar.gz\n",
      "170498071/170498071 [==============================] - 318s 2us/step\n"
     ]
    }
   ],
   "source": [
    "# Loading the dataset\n",
    "(x_train, y_train), (x_test, y_test) = cifar10.load_data()"
   ]
  },
  {
   "cell_type": "code",
   "execution_count": 5,
   "metadata": {
    "id": "ApRhZDR90XbS"
   },
   "outputs": [],
   "source": [
    "class_names = ['0: airplane', '1: automobile', '2: bird', '3: cat', '4: deer', '5: dog', '6: frog', \n",
    "               '7: horse', '8: ship', '9: truck']"
   ]
  },
  {
   "cell_type": "code",
   "execution_count": 6,
   "metadata": {
    "colab": {
     "base_uri": "https://localhost:8080/",
     "height": 55
    },
    "executionInfo": {
     "elapsed": 6850,
     "status": "ok",
     "timestamp": 1594726796105,
     "user": {
      "displayName": "Vijay Gadhave",
      "photoUrl": "https://lh3.googleusercontent.com/a-/AOh14Gh8AeAj-bn6r8wj43bKiCJEywC8wSd5igowbxpPuQ=s64",
      "userId": "02099433176152859365"
     },
     "user_tz": -330
    },
    "id": "_1GtGB7C0fo6",
    "outputId": "53d9158b-f4a5-4b9c-e2fd-fcf4f2aafc9a"
   },
   "outputs": [
    {
     "name": "stdout",
     "output_type": "stream",
     "text": [
      "['0: airplane', '1: automobile', '2: bird', '3: cat', '4: deer', '5: dog', '6: frog', '7: horse', '8: ship', '9: truck']\n"
     ]
    }
   ],
   "source": [
    "print(class_names)"
   ]
  },
  {
   "cell_type": "code",
   "execution_count": 7,
   "metadata": {
    "colab": {
     "base_uri": "https://localhost:8080/",
     "height": 35
    },
    "executionInfo": {
     "elapsed": 7373,
     "status": "ok",
     "timestamp": 1594726796635,
     "user": {
      "displayName": "Vijay Gadhave",
      "photoUrl": "https://lh3.googleusercontent.com/a-/AOh14Gh8AeAj-bn6r8wj43bKiCJEywC8wSd5igowbxpPuQ=s64",
      "userId": "02099433176152859365"
     },
     "user_tz": -330
    },
    "id": "HnddwiOj0pNb",
    "outputId": "9d430f97-5d16-4766-de57-e0d5f79540ab"
   },
   "outputs": [
    {
     "data": {
      "text/plain": [
       "(255, 0, 120.70756512369792)"
      ]
     },
     "execution_count": 7,
     "metadata": {},
     "output_type": "execute_result"
    }
   ],
   "source": [
    "x_train.max(), x_train.min(), x_train.mean()"
   ]
  },
  {
   "cell_type": "code",
   "execution_count": 8,
   "metadata": {
    "colab": {
     "base_uri": "https://localhost:8080/",
     "height": 35
    },
    "executionInfo": {
     "elapsed": 7368,
     "status": "ok",
     "timestamp": 1594726796637,
     "user": {
      "displayName": "Vijay Gadhave",
      "photoUrl": "https://lh3.googleusercontent.com/a-/AOh14Gh8AeAj-bn6r8wj43bKiCJEywC8wSd5igowbxpPuQ=s64",
      "userId": "02099433176152859365"
     },
     "user_tz": -330
    },
    "id": "yZQNvNT308Oz",
    "outputId": "7333d50e-273b-43c8-8106-1fdf2187d959"
   },
   "outputs": [
    {
     "data": {
      "text/plain": [
       "(9, 0)"
      ]
     },
     "execution_count": 8,
     "metadata": {},
     "output_type": "execute_result"
    }
   ],
   "source": [
    "y_train.max(), y_train.min()"
   ]
  },
  {
   "cell_type": "code",
   "execution_count": 9,
   "metadata": {},
   "outputs": [
    {
     "data": {
      "text/plain": [
       "<matplotlib.image.AxesImage at 0x7fd79bc719a0>"
      ]
     },
     "execution_count": 9,
     "metadata": {},
     "output_type": "execute_result"
    },
    {
     "data": {
      "image/png": "[encoded data removed]",
      "text/plain": [
       "<Figure size 432x288 with 1 Axes>"
      ]
     },
     "metadata": {
      "needs_background": "light"
     },
     "output_type": "display_data"
    }
   ],
   "source": [
    "plt.imshow(x_train[0])"
   ]
  },
  {
   "cell_type": "code",
   "execution_count": 10,
   "metadata": {
    "colab": {
     "base_uri": "https://localhost:8080/",
     "height": 191
    },
    "executionInfo": {
     "elapsed": 7363,
     "status": "ok",
     "timestamp": 1594726796639,
     "user": {
      "displayName": "Vijay Gadhave",
      "photoUrl": "https://lh3.googleusercontent.com/a-/AOh14Gh8AeAj-bn6r8wj43bKiCJEywC8wSd5igowbxpPuQ=s64",
      "userId": "02099433176152859365"
     },
     "user_tz": -330
    },
    "id": "XAtkBZJk1DBO",
    "outputId": "4d6c215f-43bd-4086-e2ae-8304ce2e2d18"
   },
   "outputs": [
    {
     "data": {
      "text/plain": [
       "['0: airplane',\n",
       " '1: automobile',\n",
       " '2: bird',\n",
       " '3: cat',\n",
       " '4: deer',\n",
       " '5: dog',\n",
       " '6: frog',\n",
       " '7: horse',\n",
       " '8: ship',\n",
       " '9: truck']"
      ]
     },
     "execution_count": 10,
     "metadata": {},
     "output_type": "execute_result"
    }
   ],
   "source": [
    "class_names"
   ]
  },
  {
   "cell_type": "code",
   "execution_count": 11,
   "metadata": {
    "id": "lC56KF2E1REr"
   },
   "outputs": [],
   "source": [
    "# Normalizing the images\n",
    "x_train = x_train / 255.0\n",
    "x_test = x_test / 255.0"
   ]
  },
  {
   "cell_type": "code",
   "execution_count": 12,
   "metadata": {
    "colab": {
     "base_uri": "https://localhost:8080/",
     "height": 35
    },
    "executionInfo": {
     "elapsed": 8900,
     "status": "ok",
     "timestamp": 1594726798188,
     "user": {
      "displayName": "Vijay Gadhave",
      "photoUrl": "https://lh3.googleusercontent.com/a-/AOh14Gh8AeAj-bn6r8wj43bKiCJEywC8wSd5igowbxpPuQ=s64",
      "userId": "02099433176152859365"
     },
     "user_tz": -330
    },
    "id": "iqk32dB_1oEb",
    "outputId": "a1d88979-813e-49da-f62a-6b66497e980f"
   },
   "outputs": [
    {
     "data": {
      "text/plain": [
       "(1.0, 0.0, 0.4733630004850874)"
      ]
     },
     "execution_count": 12,
     "metadata": {},
     "output_type": "execute_result"
    }
   ],
   "source": [
    "x_train.max(), x_train.min(), x_train.mean()"
   ]
  },
  {
   "cell_type": "code",
   "execution_count": 13,
   "metadata": {
    "colab": {
     "base_uri": "https://localhost:8080/",
     "height": 35
    },
    "executionInfo": {
     "elapsed": 8894,
     "status": "ok",
     "timestamp": 1594726798189,
     "user": {
      "displayName": "Vijay Gadhave",
      "photoUrl": "https://lh3.googleusercontent.com/a-/AOh14Gh8AeAj-bn6r8wj43bKiCJEywC8wSd5igowbxpPuQ=s64",
      "userId": "02099433176152859365"
     },
     "user_tz": -330
    },
    "id": "iYLZJt4f199h",
    "outputId": "970b9541-9620-40ea-ca0c-d7b9ff75b433"
   },
   "outputs": [
    {
     "data": {
      "text/plain": [
       "((50000, 32, 32, 3), (10000, 32, 32, 3))"
      ]
     },
     "execution_count": 13,
     "metadata": {},
     "output_type": "execute_result"
    }
   ],
   "source": [
    "x_train.shape, x_test.shape"
   ]
  },
  {
   "cell_type": "code",
   "execution_count": 14,
   "metadata": {
    "colab": {
     "base_uri": "https://localhost:8080/",
     "height": 283
    },
    "executionInfo": {
     "elapsed": 8886,
     "status": "ok",
     "timestamp": 1594726798190,
     "user": {
      "displayName": "Vijay Gadhave",
      "photoUrl": "https://lh3.googleusercontent.com/a-/AOh14Gh8AeAj-bn6r8wj43bKiCJEywC8wSd5igowbxpPuQ=s64",
      "userId": "02099433176152859365"
     },
     "user_tz": -330
    },
    "id": "nULJtIqi2Vtr",
    "outputId": "17a4a124-1df6-403a-ba41-f6e8999ed09e"
   },
   "outputs": [
    {
     "data": {
      "text/plain": [
       "<matplotlib.image.AxesImage at 0x7fd79be56c70>"
      ]
     },
     "execution_count": 14,
     "metadata": {},
     "output_type": "execute_result"
    },
    {
     "data": {
      "image/png": "[encoded data removed]",
      "text/plain": [
       "<Figure size 432x288 with 1 Axes>"
      ]
     },
     "metadata": {
      "needs_background": "light"
     },
     "output_type": "display_data"
    }
   ],
   "source": [
    "plt.imshow(x_train[0])"
   ]
  },
  {
   "cell_type": "code",
   "execution_count": 15,
   "metadata": {
    "colab": {
     "base_uri": "https://localhost:8080/",
     "height": 35
    },
    "executionInfo": {
     "elapsed": 8880,
     "status": "ok",
     "timestamp": 1594726798191,
     "user": {
      "displayName": "Vijay Gadhave",
      "photoUrl": "https://lh3.googleusercontent.com/a-/AOh14Gh8AeAj-bn6r8wj43bKiCJEywC8wSd5igowbxpPuQ=s64",
      "userId": "02099433176152859365"
     },
     "user_tz": -330
    },
    "id": "oqbhnulY2eqC",
    "outputId": "2d157da8-d64c-4d71-da7a-11d7882b627b"
   },
   "outputs": [
    {
     "data": {
      "text/plain": [
       "array([6], dtype=uint8)"
      ]
     },
     "execution_count": 15,
     "metadata": {},
     "output_type": "execute_result"
    }
   ],
   "source": [
    "y_train[0]"
   ]
  },
  {
   "cell_type": "code",
   "execution_count": 16,
   "metadata": {
    "colab": {
     "base_uri": "https://localhost:8080/",
     "height": 191
    },
    "executionInfo": {
     "elapsed": 8874,
     "status": "ok",
     "timestamp": 1594726798192,
     "user": {
      "displayName": "Vijay Gadhave",
      "photoUrl": "https://lh3.googleusercontent.com/a-/AOh14Gh8AeAj-bn6r8wj43bKiCJEywC8wSd5igowbxpPuQ=s64",
      "userId": "02099433176152859365"
     },
     "user_tz": -330
    },
    "id": "ixVsYIGh2isd",
    "outputId": "3c81a0a5-76f9-479a-cd8d-47a8cdb9cc6a"
   },
   "outputs": [
    {
     "data": {
      "text/plain": [
       "['0: airplane',\n",
       " '1: automobile',\n",
       " '2: bird',\n",
       " '3: cat',\n",
       " '4: deer',\n",
       " '5: dog',\n",
       " '6: frog',\n",
       " '7: horse',\n",
       " '8: ship',\n",
       " '9: truck']"
      ]
     },
     "execution_count": 16,
     "metadata": {},
     "output_type": "execute_result"
    }
   ],
   "source": [
    "class_names"
   ]
  },
  {
   "cell_type": "markdown",
   "metadata": {
    "id": "DvrxiGmU3med"
   },
   "source": [
    "# Step 3: Building the CNN"
   ]
  },
  {
   "cell_type": "code",
   "execution_count": null,
   "metadata": {
    "id": "-aTAPWYa3pHc"
   },
   "outputs": [],
   "source": [
    "# Defining the object\n",
    "model = tf.keras.models.Sequential()\n"
   ]
  },
  {
   "cell_type": "code",
   "execution_count": null,
   "metadata": {
    "id": "g3UAORGz6vlt"
   },
   "outputs": [],
   "source": [
    "# Adding first CCN layer\n",
    "# 1) filters (kernel) = 32\n",
    "# 2) kernal size = 3\n",
    "# 3) padding = same\n",
    "# 4) activation = ReLU\n",
    "# 5) input shape = (32, 32, 3)\n",
    "\n",
    "model.add(tf.keras.layers.Conv2D(filters=32, kernel_size=3, padding='same', \n",
    "                                 activation='relu', input_shape = [32, 32, 3]))"
   ]
  },
  {
   "cell_type": "code",
   "execution_count": null,
   "metadata": {
    "id": "DkvH1Wsd-gg1"
   },
   "outputs": [],
   "source": [
    "# Adding second CNN layer and maxpool layer\n",
    "# 1) filters (kernel) = 32\n",
    "# 2) kernal size = 3\n",
    "# 3) padding = same\n",
    "# 4) activation = ReLU\n",
    "\n",
    "model.add(tf.keras.layers.Conv2D(filters=32, kernel_size=3, padding='same', activation='relu'))\n",
    "\n",
    "# maxpool layer parameters,\n",
    "# 1) pool size = 2\n",
    "# 2) strides = 2\n",
    "# 3) padding = valid\n",
    "\n",
    "model.add(tf.keras.layers.MaxPool2D(pool_size=2, strides=2, padding='valid'))"
   ]
  },
  {
   "cell_type": "code",
   "execution_count": null,
   "metadata": {
    "id": "jItDE9R4_8eH"
   },
   "outputs": [],
   "source": [
    "# Adding third CNN layer\n",
    "# 1) filters (kernel) = 64\n",
    "# 2) kernal size = 3\n",
    "# 3) padding = same\n",
    "# 4) activation = ReLU\n",
    "\n",
    "model.add(tf.keras.layers.Conv2D(filters=64, kernel_size=3, padding='same', activation='relu'))"
   ]
  },
  {
   "cell_type": "code",
   "execution_count": null,
   "metadata": {
    "id": "fPB9MkbYARpN"
   },
   "outputs": [],
   "source": [
    "# Adding fourth CNN layer and maxpool layer\n",
    "# 1) filters (kernel) = 64\n",
    "# 2) kernal size = 3\n",
    "# 3) padding = same\n",
    "# 4) activation = ReLU\n",
    "\n",
    "model.add(tf.keras.layers.Conv2D(filters=64, kernel_size=3, padding='same', activation='relu'))\n",
    "\n",
    "# maxpool layer parameters,\n",
    "# 1) pool size = 2\n",
    "# 2) strides = 2\n",
    "# 3) padding = valid\n",
    "\n",
    "model.add(tf.keras.layers.MaxPool2D(pool_size=2, strides=2, padding='valid'))"
   ]
  },
  {
   "cell_type": "code",
   "execution_count": null,
   "metadata": {
    "id": "d3HfHnUUAlhP"
   },
   "outputs": [],
   "source": [
    "# Adding the dropout layer\n",
    "model.add(tf.keras.layers.Dropout(0.4))"
   ]
  },
  {
   "cell_type": "code",
   "execution_count": null,
   "metadata": {
    "id": "688TSDyFBAnB"
   },
   "outputs": [],
   "source": [
    "# Adding the Flattening layer\n",
    "model.add(tf.keras.layers.Flatten())"
   ]
  },
  {
   "cell_type": "code",
   "execution_count": null,
   "metadata": {
    "id": "KTJC_fwIBWbc"
   },
   "outputs": [],
   "source": [
    "# Adding first dense layer\n",
    "model.add(tf.keras.layers.Dense(units=128, activation='relu'))"
   ]
  },
  {
   "cell_type": "code",
   "execution_count": null,
   "metadata": {
    "id": "fX9Isc8BBmCQ"
   },
   "outputs": [],
   "source": [
    "# Adding second dense layer (output layer)\n",
    "model.add(tf.keras.layers.Dense(units=10, activation='softmax'))"
   ]
  },
  {
   "cell_type": "code",
   "execution_count": null,
   "metadata": {
    "colab": {
     "base_uri": "https://localhost:8080/",
     "height": 503
    },
    "executionInfo": {
     "elapsed": 8857,
     "status": "ok",
     "timestamp": 1594726798200,
     "user": {
      "displayName": "Vijay Gadhave",
      "photoUrl": "https://lh3.googleusercontent.com/a-/AOh14Gh8AeAj-bn6r8wj43bKiCJEywC8wSd5igowbxpPuQ=s64",
      "userId": "02099433176152859365"
     },
     "user_tz": -330
    },
    "id": "fE-_GDQ1CYP0",
    "outputId": "7a421483-8698-498b-9fdf-5d9af58ff068"
   },
   "outputs": [
    {
     "name": "stdout",
     "output_type": "stream",
     "text": [
      "Model: \"sequential\"\n",
      "_________________________________________________________________\n",
      "Layer (type)                 Output Shape              Param #   \n",
      "=================================================================\n",
      "conv2d (Conv2D)              (None, 32, 32, 32)        896       \n",
      "_________________________________________________________________\n",
      "conv2d_1 (Conv2D)            (None, 32, 32, 32)        9248      \n",
      "_________________________________________________________________\n",
      "max_pooling2d (MaxPooling2D) (None, 16, 16, 32)        0         \n",
      "_________________________________________________________________\n",
      "conv2d_2 (Conv2D)            (None, 16, 16, 64)        18496     \n",
      "_________________________________________________________________\n",
      "conv2d_3 (Conv2D)            (None, 16, 16, 64)        36928     \n",
      "_________________________________________________________________\n",
      "max_pooling2d_1 (MaxPooling2 (None, 8, 8, 64)          0         \n",
      "_________________________________________________________________\n",
      "dropout (Dropout)            (None, 8, 8, 64)          0         \n",
      "_________________________________________________________________\n",
      "flatten (Flatten)            (None, 4096)              0         \n",
      "_________________________________________________________________\n",
      "dense (Dense)                (None, 128)               524416    \n",
      "_________________________________________________________________\n",
      "dense_1 (Dense)              (None, 10)                1290      \n",
      "=================================================================\n",
      "Total params: 591,274\n",
      "Trainable params: 591,274\n",
      "Non-trainable params: 0\n",
      "_________________________________________________________________\n"
     ]
    }
   ],
   "source": [
    "model.summary()"
   ]
  },
  {
   "cell_type": "markdown",
   "metadata": {
    "id": "yVf95HNZOcnm"
   },
   "source": [
    "# Step 4: Training the model"
   ]
  },
  {
   "cell_type": "code",
   "execution_count": null,
   "metadata": {
    "id": "SMfBwuD8ZF68"
   },
   "outputs": [],
   "source": [
    "# Compiling the model\n",
    "model.compile(loss='sparse_categorical_crossentropy', optimizer='adam', \n",
    "              metrics=['sparse_categorical_accuracy'])\n"
   ]
  },
  {
   "cell_type": "code",
   "execution_count": null,
   "metadata": {
    "colab": {
     "base_uri": "https://localhost:8080/",
     "height": 401
    },
    "executionInfo": {
     "elapsed": 3075864,
     "status": "ok",
     "timestamp": 1594729865216,
     "user": {
      "displayName": "Vijay Gadhave",
      "photoUrl": "https://lh3.googleusercontent.com/a-/AOh14Gh8AeAj-bn6r8wj43bKiCJEywC8wSd5igowbxpPuQ=s64",
      "userId": "02099433176152859365"
     },
     "user_tz": -330
    },
    "id": "aR5E1IhUbTeT",
    "outputId": "3bb89bb9-bcf0-42da-8106-cc39b2aa6e58"
   },
   "outputs": [
    {
     "name": "stdout",
     "output_type": "stream",
     "text": [
      "Epoch 1/10\n",
      "5000/5000 [==============================] - 308s 62ms/step - loss: 1.4228 - sparse_categorical_accuracy: 0.4831\n",
      "Epoch 2/10\n",
      "5000/5000 [==============================] - 306s 61ms/step - loss: 1.0113 - sparse_categorical_accuracy: 0.6421\n",
      "Epoch 3/10\n",
      "5000/5000 [==============================] - 307s 61ms/step - loss: 0.8712 - sparse_categorical_accuracy: 0.6920\n",
      "Epoch 4/10\n",
      "5000/5000 [==============================] - 306s 61ms/step - loss: 0.7788 - sparse_categorical_accuracy: 0.7248\n",
      "Epoch 5/10\n",
      "5000/5000 [==============================] - 306s 61ms/step - loss: 0.7212 - sparse_categorical_accuracy: 0.7449\n",
      "Epoch 6/10\n",
      "5000/5000 [==============================] - 305s 61ms/step - loss: 0.6738 - sparse_categorical_accuracy: 0.7633\n",
      "Epoch 7/10\n",
      "5000/5000 [==============================] - 306s 61ms/step - loss: 0.6269 - sparse_categorical_accuracy: 0.7783\n",
      "Epoch 8/10\n",
      "5000/5000 [==============================] - 307s 61ms/step - loss: 0.5928 - sparse_categorical_accuracy: 0.7920\n",
      "Epoch 9/10\n",
      "5000/5000 [==============================] - 307s 61ms/step - loss: 0.5575 - sparse_categorical_accuracy: 0.8037\n",
      "Epoch 10/10\n",
      "5000/5000 [==============================] - 307s 61ms/step - loss: 0.5347 - sparse_categorical_accuracy: 0.8127\n"
     ]
    },
    {
     "data": {
      "text/plain": [
       "<tensorflow.python.keras.callbacks.History at 0x7f68ef006da0>"
      ]
     },
     "execution_count": 28,
     "metadata": {
      "tags": []
     },
     "output_type": "execute_result"
    }
   ],
   "source": [
    "model.fit(x_train, y_train, batch_size=10, epochs=10)"
   ]
  },
  {
   "cell_type": "markdown",
   "metadata": {
    "id": "-CES4RsyqZeO"
   },
   "source": [
    "# Step 5: Model evaluation and prediction"
   ]
  },
  {
   "cell_type": "code",
   "execution_count": null,
   "metadata": {
    "colab": {
     "base_uri": "https://localhost:8080/",
     "height": 35
    },
    "executionInfo": {
     "elapsed": 3089536,
     "status": "ok",
     "timestamp": 1594729878899,
     "user": {
      "displayName": "Vijay Gadhave",
      "photoUrl": "https://lh3.googleusercontent.com/a-/AOh14Gh8AeAj-bn6r8wj43bKiCJEywC8wSd5igowbxpPuQ=s64",
      "userId": "02099433176152859365"
     },
     "user_tz": -330
    },
    "id": "rR0Jp6C-qdT9",
    "outputId": "95569fd2-4971-44ab-fadf-8d279911a01b"
   },
   "outputs": [
    {
     "name": "stdout",
     "output_type": "stream",
     "text": [
      "313/313 [==============================] - 13s 43ms/step - loss: 0.8021 - sparse_categorical_accuracy: 0.7415\n"
     ]
    }
   ],
   "source": [
    "# evaluate the model performane\n",
    "test_loss, test_acc = model.evaluate(x_test, y_test)"
   ]
  },
  {
   "cell_type": "code",
   "execution_count": null,
   "metadata": {
    "colab": {
     "base_uri": "https://localhost:8080/",
     "height": 35
    },
    "executionInfo": {
     "elapsed": 3089527,
     "status": "ok",
     "timestamp": 1594729878902,
     "user": {
      "displayName": "Vijay Gadhave",
      "photoUrl": "https://lh3.googleusercontent.com/a-/AOh14Gh8AeAj-bn6r8wj43bKiCJEywC8wSd5igowbxpPuQ=s64",
      "userId": "02099433176152859365"
     },
     "user_tz": -330
    },
    "id": "HBj0RaEKrV9t",
    "outputId": "19b01c79-c805-464f-a53c-162e6d4ff187"
   },
   "outputs": [
    {
     "name": "stdout",
     "output_type": "stream",
     "text": [
      "Test Accuracy is: 0.7415000200271606\n"
     ]
    }
   ],
   "source": [
    "print('Test Accuracy is: {}'.format(test_acc))"
   ]
  },
  {
   "cell_type": "code",
   "execution_count": null,
   "metadata": {
    "colab": {
     "base_uri": "https://localhost:8080/",
     "height": 89
    },
    "executionInfo": {
     "elapsed": 3102500,
     "status": "ok",
     "timestamp": 1594729891881,
     "user": {
      "displayName": "Vijay Gadhave",
      "photoUrl": "https://lh3.googleusercontent.com/a-/AOh14Gh8AeAj-bn6r8wj43bKiCJEywC8wSd5igowbxpPuQ=s64",
      "userId": "02099433176152859365"
     },
     "user_tz": -330
    },
    "id": "FcYQx60tr3Lg",
    "outputId": "799429b6-59ab-4300-aeed-b4fb1cc85cdb"
   },
   "outputs": [
    {
     "name": "stdout",
     "output_type": "stream",
     "text": [
      "WARNING:tensorflow:From <ipython-input-31-cc60cb53793c>:2: Sequential.predict_classes (from tensorflow.python.keras.engine.sequential) is deprecated and will be removed after 2021-01-01.\n",
      "Instructions for updating:\n",
      "Please use instead:* `np.argmax(model.predict(x), axis=-1)`,   if your model does multi-class classification   (e.g. if it uses a `softmax` last-layer activation).* `(model.predict(x) > 0.5).astype(\"int32\")`,   if your model does binary classification   (e.g. if it uses a `sigmoid` last-layer activation).\n"
     ]
    }
   ],
   "source": [
    "# Predictions\n",
    "y_pred = model.predict_classes(x_test)"
   ]
  },
  {
   "cell_type": "code",
   "execution_count": null,
   "metadata": {
    "colab": {
     "base_uri": "https://localhost:8080/",
     "height": 69
    },
    "executionInfo": {
     "elapsed": 3102493,
     "status": "ok",
     "timestamp": 1594729891884,
     "user": {
      "displayName": "Vijay Gadhave",
      "photoUrl": "https://lh3.googleusercontent.com/a-/AOh14Gh8AeAj-bn6r8wj43bKiCJEywC8wSd5igowbxpPuQ=s64",
      "userId": "02099433176152859365"
     },
     "user_tz": -330
    },
    "id": "Zzh5lGbKsWOq",
    "outputId": "e7ac6054-8f05-4836-e6fa-3cfcb0d180a3"
   },
   "outputs": [
    {
     "name": "stdout",
     "output_type": "stream",
     "text": [
      "3\n",
      "[3]\n"
     ]
    },
    {
     "data": {
      "text/plain": [
       "(None, None)"
      ]
     },
     "execution_count": 32,
     "metadata": {
      "tags": []
     },
     "output_type": "execute_result"
    }
   ],
   "source": [
    "print(y_pred[0]), print(y_test[0])"
   ]
  },
  {
   "cell_type": "code",
   "execution_count": null,
   "metadata": {
    "colab": {
     "base_uri": "https://localhost:8080/",
     "height": 191
    },
    "executionInfo": {
     "elapsed": 3103237,
     "status": "ok",
     "timestamp": 1594729892638,
     "user": {
      "displayName": "Vijay Gadhave",
      "photoUrl": "https://lh3.googleusercontent.com/a-/AOh14Gh8AeAj-bn6r8wj43bKiCJEywC8wSd5igowbxpPuQ=s64",
      "userId": "02099433176152859365"
     },
     "user_tz": -330
    },
    "id": "PIUJd2WGs4w0",
    "outputId": "3d8d558a-4df8-4e32-d9bc-56678d097dfe"
   },
   "outputs": [
    {
     "name": "stdout",
     "output_type": "stream",
     "text": [
      "[[810  19  25   8   7   5   5  11  85  25]\n",
      " [ 12 871   0   2   0   6   2   4  33  70]\n",
      " [ 81   5 616  41  89  60  41  25  25  17]\n",
      " [ 34  19  70 463  79 186  47  44  26  32]\n",
      " [ 27   7  75  51 708  28  22  66  14   2]\n",
      " [ 19  10  45 118  34 667  17  57  19  14]\n",
      " [ 13  14  52  55  48  27 758   5  19   9]\n",
      " [ 21   3  30  24  47  58   1 788  10  18]\n",
      " [ 55  25   6   3   5   4   1   5 876  20]\n",
      " [ 30  57   3   3   5   3   0   4  37 858]]\n"
     ]
    }
   ],
   "source": [
    "# Confusion matrix\n",
    "\n",
    "from sklearn.metrics import confusion_matrix, accuracy_score\n",
    "cm = confusion_matrix(y_test, y_pred)\n",
    "print(cm)"
   ]
  },
  {
   "cell_type": "code",
   "execution_count": null,
   "metadata": {
    "colab": {
     "base_uri": "https://localhost:8080/",
     "height": 35
    },
    "executionInfo": {
     "elapsed": 3103227,
     "status": "ok",
     "timestamp": 1594729892639,
     "user": {
      "displayName": "Vijay Gadhave",
      "photoUrl": "https://lh3.googleusercontent.com/a-/AOh14Gh8AeAj-bn6r8wj43bKiCJEywC8wSd5igowbxpPuQ=s64",
      "userId": "02099433176152859365"
     },
     "user_tz": -330
    },
    "id": "_bxCHUlptvt3",
    "outputId": "cba40ba2-0946-4181-9c16-fb9ff59dd18b"
   },
   "outputs": [
    {
     "name": "stdout",
     "output_type": "stream",
     "text": [
      "0.7415\n"
     ]
    }
   ],
   "source": [
    "acc_cm = accuracy_score(y_test, y_pred)\n",
    "print(acc_cm)"
   ]
  }
 ],
 "metadata": {
  "colab": {
   "collapsed_sections": [],
   "name": "Project 3: Object Recognition in Images with CNN.ipynb",
   "provenance": [],
   "toc_visible": true
  },
  "kernelspec": {
   "display_name": "Python 3",
   "language": "python",
   "name": "python3"
  },
  "language_info": {
   "codemirror_mode": {
    "name": "ipython",
    "version": 3
   },
   "file_extension": ".py",
   "mimetype": "text/x-python",
   "name": "python",
   "nbconvert_exporter": "python",
   "pygments_lexer": "ipython3",
   "version": "3.8.5"
  }
 },
 "nbformat": 4,
 "nbformat_minor": 1
}
